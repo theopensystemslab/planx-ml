{
 "cells": [
  {
   "cell_type": "code",
   "execution_count": 1,
   "id": "37c5fbd2",
   "metadata": {},
   "outputs": [
    {
     "name": "stdout",
     "output_type": "stream",
     "text": [
      "🦥 Unsloth: Will patch your computer to enable 2x faster free finetuning.\n"
     ]
    },
    {
     "name": "stderr",
     "output_type": "stream",
     "text": [
      "/home/ubuntu/planx-ml/.venv/lib/python3.12/site-packages/tqdm/auto.py:21: TqdmWarning: IProgress not found. Please update jupyter and ipywidgets. See https://ipywidgets.readthedocs.io/en/stable/user_install.html\n",
      "  from .autonotebook import tqdm as notebook_tqdm\n"
     ]
    },
    {
     "name": "stdout",
     "output_type": "stream",
     "text": [
      "🦥 Unsloth Zoo will now patch everything to make training faster!\n"
     ]
    }
   ],
   "source": [
    "from unsloth import FastLanguageModel\n",
    "from transformers import TextStreamer\n",
    "from unsloth.chat_templates import get_chat_template, train_on_responses_only"
   ]
  },
  {
   "cell_type": "code",
   "execution_count": 6,
   "id": "572312a0",
   "metadata": {},
   "outputs": [],
   "source": [
    "import pandas as pd\n",
    "from datasets import Dataset\n"
   ]
  },
  {
   "cell_type": "code",
   "execution_count": 3,
   "id": "6cb26049",
   "metadata": {},
   "outputs": [
    {
     "name": "stdout",
     "output_type": "stream",
     "text": [
      "==((====))==  Unsloth 2025.10.8: Fast Qwen3 patching. Transformers: 4.56.2.\n",
      "   \\\\   /|    NVIDIA L4. Num GPUs = 1. Max memory: 22.034 GB. Platform: Linux.\n",
      "O^O/ \\_/ \\    Torch: 2.8.0+cu128. CUDA: 8.9. CUDA Toolkit: 12.8. Triton: 3.4.0\n",
      "\\        /    Bfloat16 = TRUE. FA [Xformers = 0.0.32.post2. FA2 = False]\n",
      " \"-____-\"     Free license: http://github.com/unslothai/unsloth\n",
      "Unsloth: Fast downloading is enabled - ignore downloading bars which are red colored!\n"
     ]
    }
   ],
   "source": [
    "\n",
    "#Load in model \n",
    "model, tokenizer = FastLanguageModel.from_pretrained(\n",
    "    model_name = \"data/qwen3-4b-lora\", # YOUR MODEL YOU USED FOR TRAINING\n",
    "    #max_seq_length = max_seq_length,\n",
    "    #dtype = dtype,\n",
    "    #load_in_4bit = load_in_4bit,\n",
    ")\n",
    "FastLanguageModel.for_inference(model) # Enable native 2x faster inference\n",
    "text_streamer = TextStreamer(tokenizer)\n",
    "#_ = model.generate(**inputs, streamer = text_streamer, max_new_tokens = 64)"
   ]
  },
  {
   "cell_type": "code",
   "execution_count": 7,
   "id": "2650bb8f",
   "metadata": {},
   "outputs": [
    {
     "name": "stderr",
     "output_type": "stream",
     "text": [
      "Map: 100%|██████████| 17637/17637 [00:02<00:00, 6637.13 examples/s]\n"
     ]
    }
   ],
   "source": [
    "# Data Preparation\n",
    "raw_data = pd.read_csv(\"./data/camden_output_data.csv\", index_col=None, header=1, encoding=\"latin1\")\n",
    "raw_data.dropna(inplace=True)\n",
    "\n",
    "# we drop first column and change column names to prepare the data in the prompt-completion style\n",
    "df = raw_data[[\"ON-LINE APPLICATION\", \"DECIDED-FINAL\"]].rename(\n",
    "    columns={\"ON-LINE APPLICATION\": \"prompt\", \"DECIDED-FINAL\": \"completion\"}\n",
    ")\n",
    "# immediately load the raw data into a Dataset object in the prompt-completion style\n",
    "ds = Dataset.from_pandas(df)\n",
    "\n",
    "tokenizer = get_chat_template(\n",
    "    tokenizer,\n",
    "    chat_template=\"qwen3-instruct\",\n",
    ")\n",
    "\n",
    "\n",
    "def format_with_chat_template(example):\n",
    "    # Create the message structure that the chat template expects\n",
    "    dct = [\n",
    "        {\n",
    "            \"role\": \"system\",\n",
    "            \"content\": \"You are a trained planning officer at a local council in the UK. Change the following piece of text, which is a description of a planning application, to give it the best chance of success.\",\n",
    "        },\n",
    "        {\"role\": \"user\", \"content\": example[\"prompt\"]},\n",
    "        {\"role\": \"assistant\", \"content\": example[\"completion\"]},\n",
    "    ]\n",
    "    # Apply the chat template, returning a single formatted string\n",
    "    # `tokenize=False` means we get a string, not token IDs. SFTTrainer will tokenize it.\n",
    "    templated = tokenizer.apply_chat_template(\n",
    "        conversation=dct,\n",
    "        tokenize=False,\n",
    "        add_generation_prompt=False,\n",
    "    )\n",
    "    return {\"text\": templated}\n",
    "\n",
    "\n",
    "# Use .map() to apply the function to the entire dataset\n",
    "formatted_dataset = ds.map(format_with_chat_template)\n",
    "\n",
    "# TODO: further split out an eval ds\n",
    "result = formatted_dataset.train_test_split(test_size=0.2, shuffle=True, seed=42)\n",
    "train_ds, test_ds = result[\"train\"], result[\"test\"]"
   ]
  },
  {
   "cell_type": "code",
   "execution_count": 8,
   "id": "aeb982cf",
   "metadata": {},
   "outputs": [
    {
     "data": {
      "text/plain": [
       "{'prompt': 'Alterations to existing shopfront to include installation of retractable awning, placing of tables and chairs within a 1m high timber enclosure and introduction of a ramped access to the front entrance.',\n",
       " 'completion': 'Installation of retractable awning, erection of a timber enclosure and planters to forecourt and introduction of a ramped access to the front entrance (retrospective)',\n",
       " '__index_level_0__': 2262,\n",
       " 'text': '<|im_start|>system\\nYou are a trained planning officer at a local council in the UK. Change the following piece of text, which is a description of a planning application, to give it the best chance of success.<|im_end|>\\n<|im_start|>user\\nAlterations to existing shopfront to include installation of retractable awning, placing of tables and chairs within a 1m high timber enclosure and introduction of a ramped access to the front entrance.<|im_end|>\\n<|im_start|>assistant\\nInstallation of retractable awning, erection of a timber enclosure and planters to forecourt and introduction of a ramped access to the front entrance (retrospective)<|im_end|>\\n'}"
      ]
     },
     "execution_count": 8,
     "metadata": {},
     "output_type": "execute_result"
    }
   ],
   "source": [
    "test_ds[6]"
   ]
  },
  {
   "cell_type": "code",
   "execution_count": 25,
   "id": "8f26f7b8",
   "metadata": {},
   "outputs": [
    {
     "name": "stdout",
     "output_type": "stream",
     "text": [
      "Original description:\n",
      " Single storey rear extension with basement below, and replacement outbuilding for use ancillary to main building.\n",
      "\n",
      "Generated description:\n",
      "\n",
      "Erection of a "
     ]
    },
    {
     "name": "stdout",
     "output_type": "stream",
     "text": [
      "single-storey rear extension with basement below and replacement outbuilding in rear garden ancillary to main building.<|im_end|>\n"
     ]
    }
   ],
   "source": [
    "#6\n",
    "i = 10\n",
    "original_desc = test_ds[i][\"prompt\"]\n",
    "approved_desc = test_ds[i][\"completion\"]\n",
    "#\"Alterations to existing shopfront to include installation of retractable awning, placing of tables and chairs within a 1m high timber enclosure and introduction of a ramped access to the front entrance.\"\n",
    "\n",
    "print(\"Original description:\\n\", original_desc)\n",
    "\n",
    "messages = [\n",
    "    {\"role\" : \"user\", \"content\" : \"You are a trained planning officer at a local council in the UK. Change the following piece of text, which is a description of a planning application, to give it the best chance of success.\" + original_desc}\n",
    "]\n",
    "text = tokenizer.apply_chat_template(\n",
    "    messages,\n",
    "    tokenize = False,\n",
    "    add_generation_prompt = True, # Must add for generation\n",
    ")\n",
    "print(\"\\nGenerated description:\\n\")\n",
    "_ = model.generate(\n",
    "    **tokenizer(text, return_tensors = \"pt\").to(\"cuda\"),\n",
    "    max_new_tokens = 1000, # Increase for longer outputs!\n",
    "    temperature = 0.7, top_p = 0.8, top_k = 20, # For non thinking\n",
    "    streamer = TextStreamer(tokenizer, skip_prompt = True),\n",
    ")\n"
   ]
  },
  {
   "cell_type": "code",
   "execution_count": 24,
   "id": "fb4af05e",
   "metadata": {},
   "outputs": [
    {
     "name": "stdout",
     "output_type": "stream",
     "text": [
      "\n",
      "Approved description:\n",
      " Installation of retractable awning, erection of a timber enclosure and planters to forecourt and introduction of a ramped access to the front entrance (retrospective)\n"
     ]
    }
   ],
   "source": [
    "print(\"\\nApproved description:\\n\", approved_desc)"
   ]
  },
  {
   "cell_type": "code",
   "execution_count": null,
   "id": "6c31caa6",
   "metadata": {},
   "outputs": [],
   "source": []
  },
  {
   "cell_type": "code",
   "execution_count": null,
   "id": "b3c50287",
   "metadata": {},
   "outputs": [],
   "source": []
  },
  {
   "cell_type": "code",
   "execution_count": null,
   "id": "ffa6e17b",
   "metadata": {},
   "outputs": [],
   "source": []
  }
 ],
 "metadata": {
  "kernelspec": {
   "display_name": "planx-ml",
   "language": "python",
   "name": "python3"
  },
  "language_info": {
   "codemirror_mode": {
    "name": "ipython",
    "version": 3
   },
   "file_extension": ".py",
   "mimetype": "text/x-python",
   "name": "python",
   "nbconvert_exporter": "python",
   "pygments_lexer": "ipython3",
   "version": "3.12.3"
  }
 },
 "nbformat": 4,
 "nbformat_minor": 5
}
